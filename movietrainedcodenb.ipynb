{
 "cells": [
  {
   "cell_type": "code",
   "execution_count": 1,
   "metadata": {},
   "outputs": [],
   "source": [
    "import pandas as pd\n",
    "import numpy as np\n",
    "from NaivesBayes import NBSentimentModel\n",
    "from sklearn.model_selection import train_test_split\n",
    "from sklearn.metrics import accuracy_score, confusion_matrix, recall_score, precision_score"
   ]
  },
  {
   "cell_type": "code",
   "execution_count": 2,
   "metadata": {},
   "outputs": [],
   "source": [
    "amazon = pd.read_csv(\"amazon.csv\")\n",
    "movie = pd.read_csv(\"IMDB Dataset.csv\")\n",
    "restaurant = pd.read_csv(\"Restaurant_Reviews.csv\")"
   ]
  },
  {
   "cell_type": "code",
   "execution_count": 3,
   "metadata": {},
   "outputs": [],
   "source": [
    "amazon_updated = amazon[['product_name', 'rating', 'review_title', 'review_content']]"
   ]
  },
  {
   "cell_type": "code",
   "execution_count": 4,
   "metadata": {},
   "outputs": [
    {
     "name": "stdout",
     "output_type": "stream",
     "text": [
      "                                              Review  Liked\n",
      "0                           Wow... Loved this place.      1\n",
      "1                                 Crust is not good.      0\n",
      "2          Not tasty and the texture was just nasty.      0\n",
      "3  Stopped by during the late May bank holiday of...      1\n",
      "4  The selection on the menu was great and so wer...      1\n"
     ]
    }
   ],
   "source": [
    "print(restaurant.head())"
   ]
  },
  {
   "cell_type": "code",
   "execution_count": 5,
   "metadata": {},
   "outputs": [
    {
     "name": "stdout",
     "output_type": "stream",
     "text": [
      "                                              review sentiment\n",
      "0  One of the other reviewers has mentioned that ...  positive\n",
      "1  A wonderful little production. <br /><br />The...  positive\n",
      "2  I thought this was a wonderful way to spend ti...  positive\n",
      "3  Basically there's a family where a little boy ...  negative\n",
      "4  Petter Mattei's \"Love in the Time of Money\" is...  positive\n"
     ]
    }
   ],
   "source": [
    "print(movie.head())"
   ]
  },
  {
   "cell_type": "code",
   "execution_count": 6,
   "metadata": {},
   "outputs": [
    {
     "name": "stdout",
     "output_type": "stream",
     "text": [
      "Number of data in the Amazon dataset: 1465\n",
      "Number of data in the Movie dataset: 50000\n",
      "Number of data in the Restaurant dataset: 1000\n"
     ]
    }
   ],
   "source": [
    "print(f\"Number of data in the Amazon dataset: {len(amazon)}\")\n",
    "print(f\"Number of data in the Movie dataset: {len(movie)}\")\n",
    "print(f\"Number of data in the Restaurant dataset: {len(restaurant)}\")"
   ]
  },
  {
   "cell_type": "code",
   "execution_count": 7,
   "metadata": {},
   "outputs": [
    {
     "name": "stdout",
     "output_type": "stream",
     "text": [
      "                                              review sentiment  binary_rating\n",
      "0  One of the other reviewers has mentioned that ...  positive              1\n",
      "1  A wonderful little production. <br /><br />The...  positive              1\n",
      "2  I thought this was a wonderful way to spend ti...  positive              1\n",
      "3  Basically there's a family where a little boy ...  negative              0\n",
      "4  Petter Mattei's \"Love in the Time of Money\" is...  positive              1\n"
     ]
    }
   ],
   "source": [
    "movie['binary_rating'] = movie['sentiment'].map({'positive': 1, 'negative': 0})\n",
    "print(movie.head())"
   ]
  },
  {
   "cell_type": "code",
   "execution_count": 8,
   "metadata": {},
   "outputs": [],
   "source": [
    "movie['binary_rating'] = pd.to_numeric(movie['binary_rating'], errors='coerce')"
   ]
  },
  {
   "cell_type": "code",
   "execution_count": 9,
   "metadata": {},
   "outputs": [
    {
     "name": "stdout",
     "output_type": "stream",
     "text": [
      "Number of 1s: 500\n",
      "Number of 0s: 500\n"
     ]
    }
   ],
   "source": [
    "counts = restaurant['Liked'].value_counts()\n",
    "\n",
    "count_of_1 = counts.get(1, 0)\n",
    "count_of_0 = counts.get(0, 3)\n",
    "\n",
    "print(f\"Number of 1s: {count_of_1}\")\n",
    "print(f\"Number of 0s: {count_of_0}\")"
   ]
  },
  {
   "cell_type": "code",
   "execution_count": 10,
   "metadata": {},
   "outputs": [
    {
     "name": "stdout",
     "output_type": "stream",
     "text": [
      "Number of 1s: 25000\n",
      "Number of 0s: 25000\n"
     ]
    }
   ],
   "source": [
    "counts = movie['binary_rating'].value_counts()\n",
    "\n",
    "count_of_1 = counts.get(1, 0)\n",
    "count_of_0 = counts.get(0, 3)\n",
    "\n",
    "print(f\"Number of 1s: {count_of_1}\")\n",
    "print(f\"Number of 0s: {count_of_0}\")"
   ]
  },
  {
   "cell_type": "code",
   "execution_count": 11,
   "metadata": {},
   "outputs": [
    {
     "name": "stderr",
     "output_type": "stream",
     "text": [
      "/tmp/ipykernel_2993736/2512592586.py:1: SettingWithCopyWarning: \n",
      "A value is trying to be set on a copy of a slice from a DataFrame.\n",
      "Try using .loc[row_indexer,col_indexer] = value instead\n",
      "\n",
      "See the caveats in the documentation: https://pandas.pydata.org/pandas-docs/stable/user_guide/indexing.html#returning-a-view-versus-a-copy\n",
      "  amazon_updated['rating'] = pd.to_numeric(amazon_updated['rating'], errors='coerce')\n",
      "/tmp/ipykernel_2993736/2512592586.py:3: SettingWithCopyWarning: \n",
      "A value is trying to be set on a copy of a slice from a DataFrame.\n",
      "Try using .loc[row_indexer,col_indexer] = value instead\n",
      "\n",
      "See the caveats in the documentation: https://pandas.pydata.org/pandas-docs/stable/user_guide/indexing.html#returning-a-view-versus-a-copy\n",
      "  amazon_updated['binary_rating'] = (amazon_updated['rating'] >= 3).astype(int)\n"
     ]
    }
   ],
   "source": [
    "amazon_updated['rating'] = pd.to_numeric(amazon_updated['rating'], errors='coerce')\n",
    "\n",
    "amazon_updated['binary_rating'] = (amazon_updated['rating'] >= 3).astype(int)"
   ]
  },
  {
   "cell_type": "code",
   "execution_count": 12,
   "metadata": {},
   "outputs": [
    {
     "name": "stdout",
     "output_type": "stream",
     "text": [
      "Number of 1s: 1458\n",
      "Number of 0s: 7\n"
     ]
    }
   ],
   "source": [
    "counts = amazon_updated['binary_rating'].value_counts()\n",
    "\n",
    "count_of_1 = counts.get(1, 0)\n",
    "count_of_0 = counts.get(0, 3)\n",
    "\n",
    "print(f\"Number of 1s: {count_of_1}\")\n",
    "print(f\"Number of 0s: {count_of_0}\")"
   ]
  },
  {
   "cell_type": "code",
   "execution_count": 13,
   "metadata": {},
   "outputs": [
    {
     "name": "stdout",
     "output_type": "stream",
     "text": [
      "binary_rating\n",
      "1    500\n",
      "0    500\n",
      "Name: count, dtype: int64\n"
     ]
    }
   ],
   "source": [
    "newdf_0 = movie[movie['binary_rating'] == 0]\n",
    "newdf_1 = movie[movie['binary_rating'] == 1]\n",
    "\n",
    "newdf_1_downsampled = newdf_1.sample(n=500, random_state=42)\n",
    "newdf_0_downsampled = newdf_0.sample(n=500, random_state=42)\n",
    "movie = pd.concat([newdf_0_downsampled, newdf_1_downsampled])\n",
    "movie = movie.sample(frac=1, random_state=42).reset_index(drop=True)\n",
    "\n",
    "print(movie['binary_rating'].value_counts())"
   ]
  },
  {
   "cell_type": "code",
   "execution_count": 14,
   "metadata": {},
   "outputs": [],
   "source": [
    "train_data, test_data = train_test_split(movie, test_size=0.2, random_state=42)\n",
    "train_data, dev_data = train_test_split(train_data, test_size=0.4, random_state=42)"
   ]
  },
  {
   "cell_type": "code",
   "execution_count": 15,
   "metadata": {},
   "outputs": [],
   "source": [
    "train_sentences = train_data['review'].fillna(\"\").tolist()\n",
    "train_labels = train_data['binary_rating'].tolist()\n",
    "dev_sentences = dev_data['review'].fillna(\"\").tolist()\n",
    "dev_labels = dev_data['binary_rating'].tolist()\n",
    "test_sentences = test_data['review'].fillna(\"\").tolist()\n",
    "test_labels = test_data['binary_rating'].tolist()"
   ]
  },
  {
   "cell_type": "code",
   "execution_count": 16,
   "metadata": {},
   "outputs": [
    {
     "name": "stdout",
     "output_type": "stream",
     "text": [
      "Model accuracy on dev data with n-gram size 1: 0.65\n",
      "Model accuracy on dev data with n-gram size 2: 0.7375\n",
      "Model accuracy on dev data with n-gram size 3: 0.759375\n",
      "Model accuracy on dev data with n-gram size 4: 0.76875\n",
      "Model accuracy on dev data with n-gram size 5: 0.790625\n",
      "Model accuracy on dev data with n-gram size 6: 0.7875\n",
      "Model accuracy on dev data with n-gram size 7: 0.790625\n",
      "Model accuracy on dev data with n-gram size 8: 0.809375\n",
      "Model accuracy on dev data with n-gram size 9: 0.79375\n",
      "Model accuracy on dev data with n-gram size 10: 0.76875\n",
      "Model accuracy on dev data with n-gram size 11: 0.75\n",
      "Best n-gram size based on dev data: 8\n"
     ]
    }
   ],
   "source": [
    "best_accuracy = 0\n",
    "best_ngram_size = 1\n",
    "\n",
    "# Try n-gram sizes from 1 to 8\n",
    "for ngram_size in range(1, 12):\n",
    "    model = NBSentimentModel(ngram_size=ngram_size)\n",
    "    model.fit(train_sentences, train_labels)\n",
    "    predicted_dev_ratings = model.predict(dev_sentences)\n",
    "    accuracy = accuracy_score(dev_labels, predicted_dev_ratings)\n",
    "    print(f\"Model accuracy on dev data with n-gram size {ngram_size}: {accuracy}\")\n",
    "    \n",
    "    if accuracy > best_accuracy:\n",
    "        best_accuracy = accuracy\n",
    "        best_ngram_size = ngram_size\n",
    "\n",
    "print(f\"Best n-gram size based on dev data: {best_ngram_size}\")"
   ]
  },
  {
   "cell_type": "code",
   "execution_count": 17,
   "metadata": {},
   "outputs": [],
   "source": [
    "#Best ngram-size is 8 after testing on dev set\n",
    "model = NBSentimentModel(ngram_size=8)\n",
    "model.fit(train_sentences, train_labels)"
   ]
  },
  {
   "cell_type": "code",
   "execution_count": 18,
   "metadata": {},
   "outputs": [],
   "source": [
    "predicted_ratings = model.predict(test_sentences)\n",
    "test_data['predicted_rating'] = predicted_ratings"
   ]
  },
  {
   "cell_type": "code",
   "execution_count": 19,
   "metadata": {},
   "outputs": [
    {
     "name": "stdout",
     "output_type": "stream",
     "text": [
      "     binary_rating  predicted_rating\n",
      "521              1                 1\n",
      "737              0                 0\n",
      "740              1                 1\n",
      "660              0                 0\n",
      "411              1                 1\n",
      "678              1                 1\n",
      "626              0                 0\n",
      "513              0                 0\n",
      "859              1                 1\n",
      "136              0                 0\n",
      "811              0                 0\n",
      "76               1                 0\n",
      "636              0                 0\n",
      "973              1                 1\n",
      "938              0                 0\n",
      "899              1                 1\n",
      "280              1                 1\n",
      "883              0                 0\n",
      "761              1                 1\n",
      "319              0                 0\n",
      "549              0                 0\n",
      "174              0                 1\n",
      "371              1                 1\n",
      "527              0                 0\n",
      "210              0                 0\n",
      "235              0                 0\n",
      "101              0                 0\n",
      "986              0                 0\n",
      "902              0                 0\n",
      "947              1                 1\n",
      "346              1                 1\n",
      "139              0                 0\n",
      "621              0                 0\n",
      "499              1                 1\n",
      "370              0                 0\n",
      "198              1                 1\n",
      "687              1                 1\n",
      "584              1                 1\n",
      "901              1                 0\n",
      "59               1                 1\n",
      "328              1                 1\n",
      "96               1                 1\n",
      "312              1                 1\n",
      "974              0                 0\n",
      "299              0                 0\n",
      "277              1                 1\n",
      "924              0                 0\n",
      "601              0                 0\n",
      "439              1                 1\n",
      "837              1                 0\n",
      "570              0                 0\n",
      "879              0                 0\n",
      "261              0                 0\n",
      "578              0                 0\n",
      "23               1                 1\n",
      "30               0                 1\n",
      "617              1                 0\n",
      "10               1                 1\n",
      "221              1                 1\n",
      "820              0                 0\n",
      "296              1                 1\n",
      "54               0                 0\n",
      "542              0                 0\n",
      "209              1                 1\n",
      "604              1                 1\n",
      "692              1                 0\n",
      "662              1                 1\n",
      "866              0                 1\n",
      "70               0                 0\n",
      "543              0                 0\n",
      "107              1                 1\n",
      "493              0                 1\n",
      "590              0                 1\n",
      "741              1                 1\n",
      "292              1                 0\n",
      "289              1                 1\n",
      "652              1                 1\n",
      "39               0                 0\n",
      "589              0                 0\n",
      "307              1                 1\n",
      "679              0                 1\n",
      "66               1                 1\n",
      "275              0                 0\n",
      "67               1                 1\n",
      "318              1                 1\n",
      "548              1                 1\n",
      "998              0                 0\n",
      "714              0                 0\n",
      "753              0                 0\n",
      "327              0                 0\n",
      "382              1                 1\n",
      "451              1                 1\n",
      "522              1                 0\n",
      "218              1                 1\n",
      "787              1                 1\n",
      "436              0                 0\n",
      "764              1                 1\n",
      "88               1                 1\n",
      "63               0                 1\n",
      "826              1                 1\n",
      "716              0                 0\n",
      "351              0                 0\n",
      "936              1                 0\n",
      "256              1                 1\n",
      "635              0                 0\n",
      "644              0                 0\n",
      "554              1                 1\n",
      "959              0                 0\n",
      "168              0                 0\n",
      "917              1                 1\n",
      "528              1                 1\n",
      "823              1                 1\n",
      "985              0                 0\n",
      "816              1                 1\n",
      "86               1                 1\n",
      "432              0                 0\n",
      "184              1                 1\n",
      "978              0                 0\n",
      "534              1                 1\n",
      "294              0                 0\n",
      "892              1                 1\n",
      "425              0                 0\n",
      "713              0                 0\n",
      "260              1                 0\n",
      "237              1                 1\n",
      "559              0                 1\n",
      "583              1                 1\n",
      "445              1                 1\n",
      "867              0                 1\n",
      "800              1                 1\n",
      "599              1                 1\n",
      "849              0                 0\n",
      "265              1                 1\n",
      "995              0                 0\n",
      "529              0                 0\n",
      "55               0                 0\n",
      "120              1                 0\n",
      "215              0                 0\n",
      "25               0                 0\n",
      "72               1                 1\n",
      "44               0                 0\n",
      "247              0                 0\n",
      "721              0                 0\n",
      "281              1                 1\n",
      "893              0                 1\n",
      "914              0                 0\n",
      "810              1                 1\n",
      "244              0                 0\n",
      "822              1                 1\n",
      "321              0                 1\n",
      "643              1                 1\n",
      "158              0                 0\n",
      "977              1                 1\n",
      "429              0                 0\n",
      "941              1                 1\n",
      "462              1                 1\n",
      "309              1                 1\n",
      "697              0                 0\n",
      "60               0                 0\n",
      "884              1                 1\n",
      "595              0                 0\n",
      "767              1                 0\n",
      "649              1                 1\n",
      "650              0                 1\n",
      "865              1                 1\n",
      "668              0                 0\n",
      "298              0                 0\n",
      "689              0                 0\n",
      "314              0                 0\n",
      "310              1                 1\n",
      "361              1                 1\n",
      "479              1                 1\n",
      "110              1                 1\n",
      "989              0                 0\n",
      "486              0                 0\n",
      "363              0                 0\n",
      "254              0                 0\n",
      "259              0                 0\n",
      "802              1                 1\n",
      "677              0                 0\n",
      "494              0                 0\n",
      "670              1                 1\n",
      "377              0                 0\n",
      "526              1                 1\n",
      "845              1                 1\n",
      "137              0                 0\n",
      "355              0                 1\n",
      "365              0                 0\n",
      "942              1                 0\n",
      "749              1                 1\n",
      "948              0                 1\n",
      "829              1                 0\n",
      "656              1                 1\n",
      "199              0                 0\n",
      "213              1                 1\n",
      "408              0                 0\n",
      "332              1                 1\n",
      "208              0                 0\n",
      "613              1                 1\n",
      "78               1                 1\n"
     ]
    }
   ],
   "source": [
    "pd.set_option('display.max_rows', None)\n",
    "print(test_data[['binary_rating', 'predicted_rating']])"
   ]
  },
  {
   "cell_type": "code",
   "execution_count": 20,
   "metadata": {},
   "outputs": [
    {
     "name": "stdout",
     "output_type": "stream",
     "text": [
      "Model accuracy on test data: 0.865\n"
     ]
    }
   ],
   "source": [
    "accuracy = accuracy_score(test_labels, predicted_ratings)\n",
    "print(f\"Model accuracy on test data: {accuracy}\")"
   ]
  },
  {
   "cell_type": "code",
   "execution_count": 23,
   "metadata": {},
   "outputs": [],
   "source": [
    "train_data, test_data = train_test_split(restaurant, test_size=0.2, random_state=42)\n",
    "test_sentences = test_data['Review'].fillna(\"\").tolist()\n",
    "test_labels = test_data['Liked'].tolist()"
   ]
  },
  {
   "cell_type": "code",
   "execution_count": 24,
   "metadata": {},
   "outputs": [],
   "source": [
    "predicted_ratings = model.predict(test_sentences)\n",
    "test_data['predicted_rating'] = predicted_ratings"
   ]
  },
  {
   "cell_type": "code",
   "execution_count": 25,
   "metadata": {},
   "outputs": [
    {
     "name": "stdout",
     "output_type": "stream",
     "text": [
      "Model accuracy on test data: 0.7\n"
     ]
    }
   ],
   "source": [
    "accuracy = accuracy_score(test_labels, predicted_ratings)\n",
    "print(f\"Model accuracy on test data: {accuracy}\")"
   ]
  },
  {
   "cell_type": "code",
   "execution_count": 29,
   "metadata": {},
   "outputs": [],
   "source": [
    "train_data, test_data = train_test_split(amazon_updated, test_size=0.2, random_state=42)\n",
    "test_sentences = test_data['review_content'].fillna(\"\").tolist()\n",
    "test_labels = test_data['binary_rating'].tolist()"
   ]
  },
  {
   "cell_type": "code",
   "execution_count": 30,
   "metadata": {},
   "outputs": [],
   "source": [
    "predicted_ratings = model.predict(test_sentences)\n",
    "test_data['predicted_rating'] = predicted_ratings"
   ]
  },
  {
   "cell_type": "code",
   "execution_count": 31,
   "metadata": {},
   "outputs": [
    {
     "name": "stdout",
     "output_type": "stream",
     "text": [
      "Model accuracy on test data: 0.6621160409556314\n"
     ]
    }
   ],
   "source": [
    "accuracy = accuracy_score(test_labels, predicted_ratings)\n",
    "print(f\"Model accuracy on test data: {accuracy}\")"
   ]
  }
 ],
 "metadata": {
  "kernelspec": {
   "display_name": "Python 3",
   "language": "python",
   "name": "python3"
  },
  "language_info": {
   "codemirror_mode": {
    "name": "ipython",
    "version": 3
   },
   "file_extension": ".py",
   "mimetype": "text/x-python",
   "name": "python",
   "nbconvert_exporter": "python",
   "pygments_lexer": "ipython3",
   "version": "3.10.4"
  }
 },
 "nbformat": 4,
 "nbformat_minor": 2
}
